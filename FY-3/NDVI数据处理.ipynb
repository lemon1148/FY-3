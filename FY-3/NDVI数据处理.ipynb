{
 "cells": [
  {
   "cell_type": "code",
   "execution_count": 16,
   "metadata": {
    "collapsed": true,
    "ExecuteTime": {
     "start_time": "2023-04-27T12:00:25.591065Z",
     "end_time": "2023-04-27T12:00:28.811714Z"
    }
   },
   "outputs": [
    {
     "name": "stdout",
     "output_type": "stream",
     "text": [
      "FY3D_MERSI_GBAL_L3_NVI_MLT_GLL_20200131_AOAM_5000M_MS.HDF is reading!\n",
      "create group 2020\n"
     ]
    },
    {
     "ename": "KeyError",
     "evalue": "\"Can't open attribute (can't locate attribute: '5KM Monthly NDVI')\"",
     "output_type": "error",
     "traceback": [
      "\u001B[1;31m---------------------------------------------------------------------------\u001B[0m",
      "\u001B[1;31mKeyError\u001B[0m                                  Traceback (most recent call last)",
      "Cell \u001B[1;32mIn[16], line 38\u001B[0m\n\u001B[0;32m     36\u001B[0m \u001B[38;5;66;03m# g1=f[year]\u001B[39;00m\n\u001B[0;32m     37\u001B[0m ndvi\u001B[38;5;241m=\u001B[39mfn[\u001B[38;5;124m'\u001B[39m\u001B[38;5;124m5KM Monthly NDVI\u001B[39m\u001B[38;5;124m'\u001B[39m]\n\u001B[1;32m---> 38\u001B[0m \u001B[38;5;28mprint\u001B[39m(\u001B[43mfn\u001B[49m\u001B[38;5;241;43m.\u001B[39;49m\u001B[43mattrs\u001B[49m\u001B[43m[\u001B[49m\u001B[38;5;124;43m'\u001B[39;49m\u001B[38;5;124;43m5KM Monthly NDVI\u001B[39;49m\u001B[38;5;124;43m'\u001B[39;49m\u001B[43m]\u001B[49m)\n\u001B[0;32m     39\u001B[0m \u001B[38;5;28mprint\u001B[39m(\u001B[38;5;124m'\u001B[39m\u001B[38;5;124mndvi already read\u001B[39m\u001B[38;5;124m'\u001B[39m)\n\u001B[0;32m     40\u001B[0m d\u001B[38;5;241m=\u001B[39mf\u001B[38;5;241m.\u001B[39mcreate_dataset(year\u001B[38;5;241m+\u001B[39m\u001B[38;5;124m'\u001B[39m\u001B[38;5;124m/\u001B[39m\u001B[38;5;124m'\u001B[39m\u001B[38;5;241m+\u001B[39mday,data\u001B[38;5;241m=\u001B[39mndvi,dtype \u001B[38;5;241m=\u001B[39m \u001B[38;5;124m'\u001B[39m\u001B[38;5;124mfloat32\u001B[39m\u001B[38;5;124m'\u001B[39m)\n",
      "File \u001B[1;32mh5py\\_objects.pyx:54\u001B[0m, in \u001B[0;36mh5py._objects.with_phil.wrapper\u001B[1;34m()\u001B[0m\n",
      "File \u001B[1;32mh5py\\_objects.pyx:55\u001B[0m, in \u001B[0;36mh5py._objects.with_phil.wrapper\u001B[1;34m()\u001B[0m\n",
      "File \u001B[1;32mD:\\program\\anaconda3\\envs\\py38\\lib\\site-packages\\h5py\\_hl\\attrs.py:56\u001B[0m, in \u001B[0;36mAttributeManager.__getitem__\u001B[1;34m(self, name)\u001B[0m\n\u001B[0;32m     52\u001B[0m \u001B[38;5;129m@with_phil\u001B[39m\n\u001B[0;32m     53\u001B[0m \u001B[38;5;28;01mdef\u001B[39;00m \u001B[38;5;21m__getitem__\u001B[39m(\u001B[38;5;28mself\u001B[39m, name):\n\u001B[0;32m     54\u001B[0m     \u001B[38;5;124;03m\"\"\" Read the value of an attribute.\u001B[39;00m\n\u001B[0;32m     55\u001B[0m \u001B[38;5;124;03m    \"\"\"\u001B[39;00m\n\u001B[1;32m---> 56\u001B[0m     attr \u001B[38;5;241m=\u001B[39m \u001B[43mh5a\u001B[49m\u001B[38;5;241;43m.\u001B[39;49m\u001B[43mopen\u001B[49m\u001B[43m(\u001B[49m\u001B[38;5;28;43mself\u001B[39;49m\u001B[38;5;241;43m.\u001B[39;49m\u001B[43m_id\u001B[49m\u001B[43m,\u001B[49m\u001B[43m \u001B[49m\u001B[38;5;28;43mself\u001B[39;49m\u001B[38;5;241;43m.\u001B[39;49m\u001B[43m_e\u001B[49m\u001B[43m(\u001B[49m\u001B[43mname\u001B[49m\u001B[43m)\u001B[49m\u001B[43m)\u001B[49m\n\u001B[0;32m     58\u001B[0m     \u001B[38;5;28;01mif\u001B[39;00m is_empty_dataspace(attr):\n\u001B[0;32m     59\u001B[0m         \u001B[38;5;28;01mreturn\u001B[39;00m Empty(attr\u001B[38;5;241m.\u001B[39mdtype)\n",
      "File \u001B[1;32mh5py\\_objects.pyx:54\u001B[0m, in \u001B[0;36mh5py._objects.with_phil.wrapper\u001B[1;34m()\u001B[0m\n",
      "File \u001B[1;32mh5py\\_objects.pyx:55\u001B[0m, in \u001B[0;36mh5py._objects.with_phil.wrapper\u001B[1;34m()\u001B[0m\n",
      "File \u001B[1;32mh5py\\h5a.pyx:80\u001B[0m, in \u001B[0;36mh5py.h5a.open\u001B[1;34m()\u001B[0m\n",
      "\u001B[1;31mKeyError\u001B[0m: \"Can't open attribute (can't locate attribute: '5KM Monthly NDVI')\""
     ]
    }
   ],
   "source": [
    "# 创建HDF5文件\n",
    "import h5py\n",
    "import numpy as np\n",
    "import pandas as pd\n",
    "import netCDF4\n",
    "import os\n",
    "filepath='H:/FY3/ndvi.hdf5'\n",
    "with h5py.File(filepath,'w') as f:\n",
    "    # 创建经纬度信息\n",
    "    if ('lat' in f)==False:\n",
    "        # # 经度范围-180,180纬度范围-90,90\n",
    "        np.set_printoptions(precision=3)\n",
    "        f['lat']=np.array(pd.DataFrame(np.repeat(pd.DataFrame(np.arange(-89.975,90,0.05)).values,7200,axis=1)))\n",
    "\n",
    "        f['lat'].attrs['long_name'] = \"latitude\"\n",
    "        f['lat'].attrs['units']=\"degrees_north\"\n",
    "        f['lat'].attrs['_ChunkSizes']= \"3600U, 72000U\"\n",
    "    if ('lon' in f)==False:\n",
    "        f['lon']=np.array(pd.DataFrame(np.repeat(pd.DataFrame(np.arange(-179.975,180,0.05)).transpose().values,3600,axis=0)))\n",
    "\n",
    "        f['lon'].attrs['long_name'] = \"longitude\"\n",
    "        f['lon'].attrs['units']=\"degrees_east\"\n",
    "        f['lon'].attrs['_ChunkSizes']= \"3600U, 72000U\"\n",
    "\n",
    "\n",
    "    ndvipath='H:/FY3/NDVI/'\n",
    "    for filename in os.listdir(ndvipath):\n",
    "        print(filename,'is reading!')\n",
    "        year=filename[31:35]\n",
    "        day=filename[35:39]\n",
    "        filepath=os.path.join(ndvipath,filename)\n",
    "        with h5py.File(filepath,'r') as fn:\n",
    "            if (year in f)==False:\n",
    "                f.create_group(year)\n",
    "                print('create group',year)\n",
    "            # g1=f[year]\n",
    "            ndvi=fn['5KM Monthly NDVI']\n",
    "            print(fn.attrs['5KM Monthly NDVI'])\n",
    "            print('ndvi already read')\n",
    "            d=f.create_dataset(year+'/'+day,data=ndvi,dtype = 'float32')\n",
    "\n",
    "            # d.attrs['valid_range'] = int(-10000, 10000)\n",
    "            # d.attrs['FillValue'] = \"-32768\"; // int\n",
    "            # d.attrs['Intercept'] = \"0.0f\"; // float\n",
    "            # d.attrs['Slope'] = \"1.0E-4f\"; // float\n",
    "            # d.attrs[]      :long_name = \"5KM Monthly NDVI\";\n",
    "            # d.attrs[]    :band_name = \"��\";\n",
    "            # d.attrs[]    :_ChunkSizes = 3600U, 7200U; // uint\n",
    "        fn.close()\n",
    "f.close()"
   ]
  },
  {
   "cell_type": "code",
   "execution_count": 99,
   "outputs": [
    {
     "name": "stdout",
     "output_type": "stream",
     "text": [
      "False\n",
      "False\n",
      "False\n"
     ]
    }
   ],
   "source": [
    "import h5py\n",
    "import numpy as np\n",
    "import pandas as pd\n",
    "import os\n",
    "ndvipath='H:/FY3/NDVI/'\n",
    "for filename in os.listdir(ndvipath):\n",
    "    filepath=os.path.join(ndvipath,filename)\n",
    "    with h5py.File(filepath,'r') as fn:\n",
    "        fn.\n",
    "        print('fn.keys()'in fn)\n",
    "    # filepath=os.path.join(ndvipath,file)\n",
    "    # with h5py.File(filepath,'r') as fn:\n",
    "    # ndvi=fn['']\n",
    "    # f.close()\n"
   ],
   "metadata": {
    "collapsed": false,
    "ExecuteTime": {
     "start_time": "2023-04-26T16:54:48.317391Z",
     "end_time": "2023-04-26T16:54:48.331407Z"
    }
   }
  },
  {
   "cell_type": "code",
   "execution_count": 2,
   "outputs": [],
   "source": [
    "\n",
    "import h5py\n",
    "import numpy as np\n",
    "import pandas as pd\n",
    "import netCDF4\n",
    "import os\n",
    "filepath='H:/FY3/NDVI.hdf5'\n",
    "with h5py.File(filepath,'a') as f:\n",
    "    f.create_dataset('2020/11',(20,20))"
   ],
   "metadata": {
    "collapsed": false,
    "ExecuteTime": {
     "start_time": "2023-04-27T10:51:03.223660Z",
     "end_time": "2023-04-27T10:51:03.858741Z"
    }
   }
  }
 ],
 "metadata": {
  "kernelspec": {
   "display_name": "Python 3",
   "language": "python",
   "name": "python3"
  },
  "language_info": {
   "codemirror_mode": {
    "name": "ipython",
    "version": 2
   },
   "file_extension": ".py",
   "mimetype": "text/x-python",
   "name": "python",
   "nbconvert_exporter": "python",
   "pygments_lexer": "ipython2",
   "version": "2.7.6"
  }
 },
 "nbformat": 4,
 "nbformat_minor": 0
}
